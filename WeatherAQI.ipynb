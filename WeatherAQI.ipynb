{
 "cells": [
  {
   "cell_type": "markdown",
   "id": "6678038e-e7e0-4021-9678-66d378caab87",
   "metadata": {},
   "source": [
    "# 🌤️ Compare Real-Time Weather and Air Quality by City\n",
    "\n",
    "This notebook extracts weather data from the OpenWeatherMap API and air quality (AQI) data from a web source, then integrates and visualizes them for a selected city."
   ]
  },
  {
   "cell_type": "code",
   "execution_count": 63,
   "id": "48157316-793c-4c54-9b2a-f34674c10412",
   "metadata": {},
   "outputs": [],
   "source": [
    "import requests\n",
    "import pandas as pd\n",
    "import seaborn as sns\n",
    "import matplotlib.pyplot as plt\n",
    "import os"
   ]
  },
  {
   "cell_type": "code",
   "execution_count": 64,
   "id": "af08a6bb-ee3f-4ea5-acb4-1e07ae738c63",
   "metadata": {},
   "outputs": [
    {
     "name": "stdout",
     "output_type": "stream",
     "text": [
      "Temperature: 24.26°C\n",
      "Humidity: 62%\n"
     ]
    }
   ],
   "source": [
    "# Replace with your actual API key from OpenWeatherMap\n",
    "city = \"Los Angeles\"\n",
    "api_key = os.getenv(\"OPENWEATHER_API_KEY\")\n",
    "\n",
    "# Build API request\n",
    "weather_url = f\"https://api.openweathermap.org/data/2.5/weather?q={city}&appid={api_key}&units=metric\"\n",
    "\n",
    "# Make the API request\n",
    "response = requests.get(weather_url)\n",
    "weather_data = response.json()\n",
    "\n",
    "# Extract weather information\n",
    "temp = weather_data['main']['temp']\n",
    "humidity = weather_data['main']['humidity']\n",
    "\n",
    "print(f\"Temperature: {temp}°C\")\n",
    "print(f\"Humidity: {humidity}%\")\n"
   ]
  },
  {
   "cell_type": "code",
   "execution_count": 65,
   "id": "5d2dd7c2-2ae9-4991-b99b-3dddbc8d6bcd",
   "metadata": {},
   "outputs": [
    {
     "name": "stdout",
     "output_type": "stream",
     "text": [
      "22.2°C = 71.96°F\n"
     ]
    }
   ],
   "source": [
    "def celsius_to_fahrenheit(celsius):\n",
    "    \"\"\"\n",
    "    Convert temperature from Celsius to Fahrenheit.\n",
    "    Formula: (°C × 9/5) + 32 = °F\n",
    "    \"\"\"\n",
    "    fahrenheit = (celsius * 9/5) + 32\n",
    "    return round(fahrenheit, 2)  # Rounded to 2 decimal places\n",
    "\n",
    "# Example usage:\n",
    "temp_c = 22.2\n",
    "temp_f = celsius_to_fahrenheit(temp_c)\n",
    "print(f\"{temp_c}°C = {temp_f}°F\")\n"
   ]
  },
  {
   "cell_type": "code",
   "execution_count": 66,
   "id": "5e080cbf-36fb-4ee6-ba13-a33d4d0e8cfb",
   "metadata": {},
   "outputs": [],
   "source": [
    "# Inspect the API Response - Add this before accessing nested keys\n",
    "# import pprint\n",
    "# pprint.pprint(data) # This will show if the response contains something like {'status': 'fail', 'data': 'city not found'}"
   ]
  },
  {
   "cell_type": "code",
   "execution_count": 67,
   "id": "d13c7730-dcd3-4f96-beca-d38e4fe8e738",
   "metadata": {},
   "outputs": [
    {
     "name": "stdout",
     "output_type": "stream",
     "text": [
      "AQI for Los Angeles: 56\n"
     ]
    }
   ],
   "source": [
    "\"\"\"\n",
    "⚠️ Note: We chose NOT to use Selenium for scraping air quality data because many AQI websites like IQAir load their data dynamically \n",
    "using JavaScript, which typically requires browser automation tools like Selenium to scrape. \n",
    "However, instead of using Selenium (which is heavier and requires a browser driver), \n",
    "we looked for available API endpoints used by the site itself to fetch the data.\n",
    "\n",
    "By accessing these API endpoints directly using the `requests` library, we:\n",
    "- Reduce complexity\n",
    "- Improve performance\n",
    "- Avoid rendering or interacting with a browser\n",
    "\n",
    "✅ Summary: When APIs are available (even if unofficial), it's better to use them instead of scraping rendered pages with Selenium, \n",
    "unless there's no other option.\n",
    "\n",
    "\"\"\"\n",
    "# 2. Pull in air quality data API endpoints from the AQI website https://www.iqair.com/us/usa/california/los-angeles\n",
    "import requests\n",
    "import os\n",
    "import pprint\n",
    "\n",
    "# Define location and API key\n",
    "city = 'Los Angeles'\n",
    "state = 'California'\n",
    "country = 'USA'\n",
    "aqi_api_key = os.getenv(\"AQI_API_KEY\") # Make sure this is loaded correctly\n",
    "\n",
    "# Construct the API URL\n",
    "url = f'https://api.airvisual.com/v2/city?city={city}&state={state}&country={country}&key={aqi_api_key}'\n",
    "\n",
    "# Make the request\n",
    "response = requests.get(url)\n",
    "data = response.json()\n",
    "\n",
    "# Print the full response for debugging\n",
    "# pprint.pprint(data)\n",
    "\n",
    "# Safe extraction\n",
    "if data.get(\"status\") == \"success\":\n",
    "    aqi = data['data']['current']['pollution']['aqius']\n",
    "    print(f\"AQI for {city}: {aqi}\")\n",
    "else:\n",
    "    print(f\"⚠️ Failed to get AQI for {city}. Reason: {data.get('data')}\")\n",
    "    aqi = None\n"
   ]
  },
  {
   "cell_type": "code",
   "execution_count": 68,
   "id": "4e884f15-6456-41b7-817f-33a03252a823",
   "metadata": {},
   "outputs": [
    {
     "data": {
      "text/html": [
       "<div>\n",
       "<style scoped>\n",
       "    .dataframe tbody tr th:only-of-type {\n",
       "        vertical-align: middle;\n",
       "    }\n",
       "\n",
       "    .dataframe tbody tr th {\n",
       "        vertical-align: top;\n",
       "    }\n",
       "\n",
       "    .dataframe thead th {\n",
       "        text-align: right;\n",
       "    }\n",
       "</style>\n",
       "<table border=\"1\" class=\"dataframe\">\n",
       "  <thead>\n",
       "    <tr style=\"text-align: right;\">\n",
       "      <th></th>\n",
       "      <th>City</th>\n",
       "      <th>Temperature (°C)</th>\n",
       "      <th>Temperature (°F)</th>\n",
       "      <th>Humidity (%)</th>\n",
       "      <th>Air Quality Index</th>\n",
       "    </tr>\n",
       "  </thead>\n",
       "  <tbody>\n",
       "    <tr>\n",
       "      <th>0</th>\n",
       "      <td>Los Angeles,US</td>\n",
       "      <td>22.2</td>\n",
       "      <td>71.96</td>\n",
       "      <td>80</td>\n",
       "      <td>60</td>\n",
       "    </tr>\n",
       "  </tbody>\n",
       "</table>\n",
       "</div>"
      ],
      "text/plain": [
       "             City  Temperature (°C)  Temperature (°F)  Humidity (%)  \\\n",
       "0  Los Angeles,US              22.2             71.96            80   \n",
       "\n",
       "   Air Quality Index  \n",
       "0                 60  "
      ]
     },
     "execution_count": 68,
     "metadata": {},
     "output_type": "execute_result"
    }
   ],
   "source": [
    "# 3. Combine and analyze\n",
    "import pandas as pd\n",
    "\n",
    "city = \"Los Angeles,US\"\n",
    "temp = 70\n",
    "humidity = 80\n",
    "aqi = 60\n",
    "\n",
    "df = pd.DataFrame([{\n",
    "    \"City\": city, \n",
    "    \"Temperature (°C)\": temp_c,\n",
    "    \"Temperature (°F)\": temp_f,\n",
    "    \"Humidity (%)\": humidity,\n",
    "    \"Air Quality Index\": aqi\n",
    "}])\n",
    "\n",
    "df"
   ]
  },
  {
   "cell_type": "code",
   "execution_count": 69,
   "id": "b9a07c3b-b3f6-4cb0-a61a-09ae9848f002",
   "metadata": {},
   "outputs": [
    {
     "data": {
      "image/png": "[encoded data removed]",
      "text/plain": [
       "<Figure size 800x500 with 1 Axes>"
      ]
     },
     "metadata": {},
     "output_type": "display_data"
    }
   ],
   "source": [
    "plt.figure(figsize=(8, 5))\n",
    "\n",
    "# Draw the barplot\n",
    "ax = sns.barplot(\n",
    "    data=df_melted,\n",
    "    x=\"Metric\",\n",
    "    y=\"Value\",\n",
    "    hue=\"Metric\",\n",
    "    palette=\"coolwarm\",\n",
    "    legend=False\n",
    ")\n",
    "\n",
    "# Dynamically calculate max height to set Y-axis limit\n",
    "max_height = df_melted[\"Value\"].max()\n",
    "plt.ylim(0, max_height * 1.2)  # Add 20% padding above tallest bar\n",
    "\n",
    "# Add labels with units\n",
    "for bar in ax.patches:\n",
    "    height = bar.get_height()\n",
    "    category = df_melted.loc[df_melted[\"Value\"] == height, \"Metric\"].values[0]\n",
    "\n",
    "    if \"Temperature\" in category:\n",
    "        label = f\"{height:.1f}°C\"\n",
    "    elif \"Humidity\" in category:\n",
    "        label = f\"{height:.0f}%\"\n",
    "    elif \"Air Quality\" in category:\n",
    "        label = f\"{height:.0f} AQI\"\n",
    "    else:\n",
    "        label = f\"{height:.1f}\"\n",
    "\n",
    "    y_offset = max_height * 0.02  # Make offset proportional to plot height\n",
    "    ax.text(\n",
    "        bar.get_x() + bar.get_width() / 2,\n",
    "        height + y_offset,\n",
    "        label,\n",
    "        ha='center',\n",
    "        va='bottom',\n",
    "        fontsize=10\n",
    "    )\n",
    "\n",
    "# Final touches\n",
    "plt.title(f\"Weather and AQI Metrics for {city}\")\n",
    "plt.ylabel(\"Value\")\n",
    "plt.xticks(rotation=45)\n",
    "plt.tight_layout()\n",
    "plt.show()\n"
   ]
  },
  {
   "cell_type": "markdown",
   "id": "9398f407-7582-4c14-b732-47f0e1729965",
   "metadata": {},
   "source": [
    "## ✅ Summary\n",
    "\n",
    "- We fetched real-time weather data from OpenWeatherMap.\n",
    "- We retrieved air quality data using the IQAir API.\n",
    "- We combined and visualized the data for Los Angeles.\n",
    "\n",
    "**Next Steps**:\n",
    "- Add multiple cities\n",
    "- Schedule regular data pulls\n",
    "- Store data in a CSV or database"
   ]
  },
  {
   "cell_type": "code",
   "execution_count": 70,
   "id": "42d86911-cbc4-4eac-8620-6d3b17e01697",
   "metadata": {},
   "outputs": [
    {
     "name": "stdout",
     "output_type": "stream",
     "text": [
      "Weather API Key loaded: True\n",
      "AQI key loaded: True\n"
     ]
    }
   ],
   "source": [
    "import os\n",
    "from dotenv import load_dotenv\n",
    "\n",
    "load_dotenv() # Load environment variables from .env file\n",
    "\n",
    "# Access the OPENWEATHER & AQI API key\n",
    "api_key = os.getenv(\"OPENWEATHER_API_KEY\")\n",
    "aqi_api_key = os.getenv(\"AQI_API_KEY\")\n",
    "\n",
    "# Check if it's loaded (prints True/False)\n",
    "print(\"Weather API Key loaded:\", bool(api_key))  # For verification (don't print the actual key!)\n",
    "print(\"AQI key loaded:\", bool(aqi_api_key)) # For verification (don't print the actual key!)\n"
   ]
  },
  {
   "cell_type": "code",
   "execution_count": null,
   "id": "48918115-3748-4963-ae54-63592e976e78",
   "metadata": {},
   "outputs": [],
   "source": []
  }
 ],
 "metadata": {
  "kernelspec": {
   "display_name": "Python 3 (ipykernel)",
   "language": "python",
   "name": "python3"
  },
  "language_info": {
   "codemirror_mode": {
    "name": "ipython",
    "version": 3
   },
   "file_extension": ".py",
   "mimetype": "text/x-python",
   "name": "python",
   "nbconvert_exporter": "python",
   "pygments_lexer": "ipython3",
   "version": "3.13.5"
  }
 },
 "nbformat": 4,
 "nbformat_minor": 5
}
